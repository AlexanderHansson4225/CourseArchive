{
 "cells": [
  {
   "cell_type": "code",
   "execution_count": 1,
   "id": "1d67423a-ce69-4c43-8f53-7a57f3bf598e",
   "metadata": {},
   "outputs": [],
   "source": [
    "from lcapy import *"
   ]
  },
  {
   "cell_type": "code",
   "execution_count": 9,
   "id": "11b16077-af59-4dbc-b718-1145b0103438",
   "metadata": {},
   "outputs": [
    {
     "name": "stderr",
     "output_type": "stream",
     "text": [
      "/home/alexander/.local/lib/python3.8/site-packages/lcapy/schematic.py:593: UserWarning: Have circuitikz version 1.0; should upgrade to 1.4.5 or later\n",
      "  warn('Have circuitikz version %s; should upgrade to %s or later'\n"
     ]
    },
    {
     "data": {
      "image/png": "[encoded data removed]"
     },
     "metadata": {
      "image/png": {
       "height": 299,
       "width": 460
      }
     },
     "output_type": "display_data"
    }
   ],
   "source": [
    "cct = Circuit(\"\"\"\n",
    "    V1 1 0 {v(t)}; down\n",
    "    R1 1 2 R; \n",
    "    R2 2 21 R;\n",
    "    R3 21 22 R;\n",
    "\"\"\")\n",
    "cct.draw(options='european resistors')"
   ]
  },
  {
   "cell_type": "code",
   "execution_count": 3,
   "id": "2cf08a56-65d8-40c0-bc9f-1ca28cf5b6cf",
   "metadata": {},
   "outputs": [
    {
     "data": {
      "text/latex": [
       "$$250 e^{- 250 t} \\int\\limits_{0}^{\\infty} v(\\tau) e^{250 \\tau}\\, d\\tau$$"
      ],
      "text/plain": [
       "            ∞               \n",
       "            ⌠               \n",
       "     -250⋅t ⎮       250⋅τ   \n",
       "250⋅ℯ      ⋅⎮ v(τ)⋅ℯ      dτ\n",
       "            ⌡               \n",
       "            0               "
      ]
     },
     "execution_count": 3,
     "metadata": {},
     "output_type": "execute_result"
    }
   ],
   "source": [
    "cct[2].V(t).simplify()"
   ]
  },
  {
   "cell_type": "code",
   "execution_count": 4,
   "id": "a392f4e3-c986-46b2-8fee-46db34e070bd",
   "metadata": {},
   "outputs": [
    {
     "ename": "RuntimeError",
     "evalue": "Cannot evaluate expression 250*exp(-250*t)*Integral(v(tau)*exp(250*tau), (tau, 0, oo)): name 'v' is not defined",
     "output_type": "error",
     "traceback": [
      "\u001b[0;31m---------------------------------------------------------------------------\u001b[0m",
      "\u001b[0;31mNameError\u001b[0m                                 Traceback (most recent call last)",
      "File \u001b[0;32m~/.local/lib/python3.8/site-packages/lcapy/expr.py:2419\u001b[0m, in \u001b[0;36mExpr.evaluate.<locals>.evaluate_expr\u001b[0;34m(expr, var, arg)\u001b[0m\n\u001b[1;32m   2417\u001b[0m \u001b[38;5;28;01mtry\u001b[39;00m:\n\u001b[1;32m   2418\u001b[0m     \u001b[38;5;66;03m# Try to flush out weirdness using first argument\u001b[39;00m\n\u001b[0;32m-> 2419\u001b[0m     response \u001b[38;5;241m=\u001b[39m \u001b[43mfunc\u001b[49m\u001b[43m(\u001b[49m\u001b[43marg0\u001b[49m\u001b[43m)\u001b[49m\n\u001b[1;32m   2420\u001b[0m \u001b[38;5;28;01mexcept\u001b[39;00m \u001b[38;5;167;01mNameError\u001b[39;00m \u001b[38;5;28;01mas\u001b[39;00m e:\n",
      "File \u001b[0;32m~/.local/lib/python3.8/site-packages/lcapy/expr.py:2405\u001b[0m, in \u001b[0;36mExpr.evaluate.<locals>.evaluate_expr.<locals>.func\u001b[0;34m(arg)\u001b[0m\n\u001b[1;32m   2404\u001b[0m \u001b[38;5;28;01mtry\u001b[39;00m:\n\u001b[0;32m-> 2405\u001b[0m     result \u001b[38;5;241m=\u001b[39m \u001b[43mfunc1\u001b[49m\u001b[43m(\u001b[49m\u001b[43marg\u001b[49m\u001b[43m)\u001b[49m\n\u001b[1;32m   2406\u001b[0m \u001b[38;5;28;01mexcept\u001b[39;00m \u001b[38;5;167;01mZeroDivisionError\u001b[39;00m:\n",
      "File \u001b[0;32m<lambdifygenerated-1>:2\u001b[0m, in \u001b[0;36m_lambdifygenerated\u001b[0;34m(t)\u001b[0m\n\u001b[1;32m      1\u001b[0m \u001b[38;5;28;01mdef\u001b[39;00m \u001b[38;5;21m_lambdifygenerated\u001b[39m(t):\n\u001b[0;32m----> 2\u001b[0m     \u001b[38;5;28;01mreturn\u001b[39;00m \u001b[38;5;241m250\u001b[39m\u001b[38;5;241m*\u001b[39mexp(\u001b[38;5;241m-\u001b[39m\u001b[38;5;241m250\u001b[39m\u001b[38;5;241m*\u001b[39mt)\u001b[38;5;241m*\u001b[39m\u001b[43mquad\u001b[49m\u001b[43m(\u001b[49m\u001b[38;5;28;43;01mlambda\u001b[39;49;00m\u001b[43m \u001b[49m\u001b[43mtau\u001b[49m\u001b[43m:\u001b[49m\u001b[43m \u001b[49m\u001b[43mv\u001b[49m\u001b[43m(\u001b[49m\u001b[43mtau\u001b[49m\u001b[43m)\u001b[49m\u001b[38;5;241;43m*\u001b[39;49m\u001b[43mexp\u001b[49m\u001b[43m(\u001b[49m\u001b[38;5;241;43m250\u001b[39;49m\u001b[38;5;241;43m*\u001b[39;49m\u001b[43mtau\u001b[49m\u001b[43m)\u001b[49m\u001b[43m,\u001b[49m\u001b[43m \u001b[49m\u001b[38;5;241;43m0\u001b[39;49m\u001b[43m,\u001b[49m\u001b[43m \u001b[49m\u001b[43mPINF\u001b[49m\u001b[43m)\u001b[49m[\u001b[38;5;241m0\u001b[39m]\n",
      "File \u001b[0;32m~/.local/lib/python3.8/site-packages/scipy/integrate/_quadpack_py.py:463\u001b[0m, in \u001b[0;36mquad\u001b[0;34m(func, a, b, args, full_output, epsabs, epsrel, limit, points, weight, wvar, wopts, maxp1, limlst, complex_func)\u001b[0m\n\u001b[1;32m    462\u001b[0m \u001b[38;5;28;01mif\u001b[39;00m weight \u001b[38;5;129;01mis\u001b[39;00m \u001b[38;5;28;01mNone\u001b[39;00m:\n\u001b[0;32m--> 463\u001b[0m     retval \u001b[38;5;241m=\u001b[39m \u001b[43m_quad\u001b[49m\u001b[43m(\u001b[49m\u001b[43mfunc\u001b[49m\u001b[43m,\u001b[49m\u001b[43m \u001b[49m\u001b[43ma\u001b[49m\u001b[43m,\u001b[49m\u001b[43m \u001b[49m\u001b[43mb\u001b[49m\u001b[43m,\u001b[49m\u001b[43m \u001b[49m\u001b[43margs\u001b[49m\u001b[43m,\u001b[49m\u001b[43m \u001b[49m\u001b[43mfull_output\u001b[49m\u001b[43m,\u001b[49m\u001b[43m \u001b[49m\u001b[43mepsabs\u001b[49m\u001b[43m,\u001b[49m\u001b[43m \u001b[49m\u001b[43mepsrel\u001b[49m\u001b[43m,\u001b[49m\u001b[43m \u001b[49m\u001b[43mlimit\u001b[49m\u001b[43m,\u001b[49m\n\u001b[1;32m    464\u001b[0m \u001b[43m                   \u001b[49m\u001b[43mpoints\u001b[49m\u001b[43m)\u001b[49m\n\u001b[1;32m    465\u001b[0m \u001b[38;5;28;01melse\u001b[39;00m:\n",
      "File \u001b[0;32m~/.local/lib/python3.8/site-packages/scipy/integrate/_quadpack_py.py:577\u001b[0m, in \u001b[0;36m_quad\u001b[0;34m(func, a, b, args, full_output, epsabs, epsrel, limit, points)\u001b[0m\n\u001b[1;32m    576\u001b[0m     \u001b[38;5;28;01melse\u001b[39;00m:\n\u001b[0;32m--> 577\u001b[0m         \u001b[38;5;28;01mreturn\u001b[39;00m \u001b[43m_quadpack\u001b[49m\u001b[38;5;241;43m.\u001b[39;49m\u001b[43m_qagie\u001b[49m\u001b[43m(\u001b[49m\u001b[43mfunc\u001b[49m\u001b[43m,\u001b[49m\u001b[43mbound\u001b[49m\u001b[43m,\u001b[49m\u001b[43minfbounds\u001b[49m\u001b[43m,\u001b[49m\u001b[43margs\u001b[49m\u001b[43m,\u001b[49m\u001b[43mfull_output\u001b[49m\u001b[43m,\u001b[49m\u001b[43mepsabs\u001b[49m\u001b[43m,\u001b[49m\u001b[43mepsrel\u001b[49m\u001b[43m,\u001b[49m\u001b[43mlimit\u001b[49m\u001b[43m)\u001b[49m\n\u001b[1;32m    578\u001b[0m \u001b[38;5;28;01melse\u001b[39;00m:\n",
      "File \u001b[0;32m<lambdifygenerated-1>:2\u001b[0m, in \u001b[0;36m_lambdifygenerated.<locals>.<lambda>\u001b[0;34m(tau)\u001b[0m\n\u001b[1;32m      1\u001b[0m \u001b[38;5;28;01mdef\u001b[39;00m \u001b[38;5;21m_lambdifygenerated\u001b[39m(t):\n\u001b[0;32m----> 2\u001b[0m     \u001b[38;5;28;01mreturn\u001b[39;00m \u001b[38;5;241m250\u001b[39m\u001b[38;5;241m*\u001b[39mexp(\u001b[38;5;241m-\u001b[39m\u001b[38;5;241m250\u001b[39m\u001b[38;5;241m*\u001b[39mt)\u001b[38;5;241m*\u001b[39mquad(\u001b[38;5;28;01mlambda\u001b[39;00m tau: \u001b[43mv\u001b[49m(tau)\u001b[38;5;241m*\u001b[39mexp(\u001b[38;5;241m250\u001b[39m\u001b[38;5;241m*\u001b[39mtau), \u001b[38;5;241m0\u001b[39m, PINF)[\u001b[38;5;241m0\u001b[39m]\n",
      "\u001b[0;31mNameError\u001b[0m: name 'v' is not defined",
      "\nDuring handling of the above exception, another exception occurred:\n",
      "\u001b[0;31mRuntimeError\u001b[0m                              Traceback (most recent call last)",
      "Cell \u001b[0;32mIn[4], line 2\u001b[0m\n\u001b[1;32m      1\u001b[0m get_ipython()\u001b[38;5;241m.\u001b[39mrun_line_magic(\u001b[38;5;124m'\u001b[39m\u001b[38;5;124mmatplotlib\u001b[39m\u001b[38;5;124m'\u001b[39m, \u001b[38;5;124m'\u001b[39m\u001b[38;5;124mwidget\u001b[39m\u001b[38;5;124m'\u001b[39m)\n\u001b[0;32m----> 2\u001b[0m ax \u001b[38;5;241m=\u001b[39m \u001b[43mcct\u001b[49m\u001b[43m[\u001b[49m\u001b[38;5;241;43m2\u001b[39;49m\u001b[43m]\u001b[49m\u001b[38;5;241;43m.\u001b[39;49m\u001b[43mv\u001b[49m\u001b[38;5;241;43m.\u001b[39;49m\u001b[43mplot\u001b[49m\u001b[43m(\u001b[49m\u001b[43m(\u001b[49m\u001b[38;5;241;43m0\u001b[39;49m\u001b[43m,\u001b[49m\u001b[43m \u001b[49m\u001b[38;5;241;43m30e-3\u001b[39;49m\u001b[43m)\u001b[49m\u001b[43m)\u001b[49m\n",
      "File \u001b[0;32m~/.local/lib/python3.8/site-packages/lcapy/texpr.py:211\u001b[0m, in \u001b[0;36mTimeDomainExpression.plot\u001b[0;34m(self, t, **kwargs)\u001b[0m\n\u001b[1;32m    194\u001b[0m \u001b[38;5;250m\u001b[39m\u001b[38;5;124;03m\"\"\"Plot the time waveform.  If t is not specified, it defaults to the\u001b[39;00m\n\u001b[1;32m    195\u001b[0m \u001b[38;5;124;03mrange(-0.2, 2).  t can be a vector of specified instants, a\u001b[39;00m\n\u001b[1;32m    196\u001b[0m \u001b[38;5;124;03mtuple specifing the range, or a constant specifying the\u001b[39;00m\n\u001b[0;32m   (...)\u001b[0m\n\u001b[1;32m    207\u001b[0m \n\u001b[1;32m    208\u001b[0m \u001b[38;5;124;03mThe plot axes are returned.\"\"\"\u001b[39;00m\n\u001b[1;32m    210\u001b[0m \u001b[38;5;28;01mfrom\u001b[39;00m \u001b[38;5;21;01m.\u001b[39;00m\u001b[38;5;21;01mplot\u001b[39;00m \u001b[38;5;28;01mimport\u001b[39;00m plot_time\n\u001b[0;32m--> 211\u001b[0m \u001b[38;5;28;01mreturn\u001b[39;00m \u001b[43mplot_time\u001b[49m\u001b[43m(\u001b[49m\u001b[38;5;28;43mself\u001b[39;49m\u001b[43m,\u001b[49m\u001b[43m \u001b[49m\u001b[43mt\u001b[49m\u001b[43m,\u001b[49m\u001b[43m \u001b[49m\u001b[38;5;241;43m*\u001b[39;49m\u001b[38;5;241;43m*\u001b[39;49m\u001b[43mkwargs\u001b[49m\u001b[43m)\u001b[49m\n",
      "File \u001b[0;32m~/.local/lib/python3.8/site-packages/lcapy/plot.py:588\u001b[0m, in \u001b[0;36mplot_time\u001b[0;34m(obj, t, plot_type, **kwargs)\u001b[0m\n\u001b[1;32m    585\u001b[0m     rest, deltas \u001b[38;5;241m=\u001b[39m separate_dirac_delta(obj\u001b[38;5;241m.\u001b[39mexpr)\n\u001b[1;32m    586\u001b[0m     obj \u001b[38;5;241m=\u001b[39m \u001b[38;5;28mcls\u001b[39m(rest, \u001b[38;5;241m*\u001b[39m\u001b[38;5;241m*\u001b[39mobj\u001b[38;5;241m.\u001b[39massumptions)\n\u001b[0;32m--> 588\u001b[0m v \u001b[38;5;241m=\u001b[39m \u001b[43mobj\u001b[49m\u001b[38;5;241;43m.\u001b[39;49m\u001b[43mevaluate\u001b[49m\u001b[43m(\u001b[49m\u001b[43mt\u001b[49m\u001b[43m)\u001b[49m\n\u001b[1;32m    590\u001b[0m \u001b[38;5;28;01mif\u001b[39;00m plot_type \u001b[38;5;241m==\u001b[39m \u001b[38;5;28;01mNone\u001b[39;00m:\n\u001b[1;32m    591\u001b[0m     plot_type \u001b[38;5;241m=\u001b[39m \u001b[38;5;124m'\u001b[39m\u001b[38;5;124mreal\u001b[39m\u001b[38;5;124m'\u001b[39m\n",
      "File \u001b[0;32m~/.local/lib/python3.8/site-packages/lcapy/expr.py:2499\u001b[0m, in \u001b[0;36mExpr.evaluate\u001b[0;34m(self, arg)\u001b[0m\n\u001b[1;32m   2496\u001b[0m \u001b[38;5;28;01mexcept\u001b[39;00m:\n\u001b[1;32m   2497\u001b[0m     \u001b[38;5;28;01mpass\u001b[39;00m\n\u001b[0;32m-> 2499\u001b[0m \u001b[38;5;28;01mreturn\u001b[39;00m \u001b[43mevaluate_expr\u001b[49m\u001b[43m(\u001b[49m\u001b[43mexpr\u001b[49m\u001b[43m,\u001b[49m\u001b[43m \u001b[49m\u001b[43mvar\u001b[49m\u001b[43m,\u001b[49m\u001b[43m \u001b[49m\u001b[43marg\u001b[49m\u001b[43m)\u001b[49m\n",
      "File \u001b[0;32m~/.local/lib/python3.8/site-packages/lcapy/expr.py:2421\u001b[0m, in \u001b[0;36mExpr.evaluate.<locals>.evaluate_expr\u001b[0;34m(expr, var, arg)\u001b[0m\n\u001b[1;32m   2419\u001b[0m     response \u001b[38;5;241m=\u001b[39m func(arg0)\n\u001b[1;32m   2420\u001b[0m \u001b[38;5;28;01mexcept\u001b[39;00m \u001b[38;5;167;01mNameError\u001b[39;00m \u001b[38;5;28;01mas\u001b[39;00m e:\n\u001b[0;32m-> 2421\u001b[0m     \u001b[38;5;28;01mraise\u001b[39;00m \u001b[38;5;167;01mRuntimeError\u001b[39;00m(\n\u001b[1;32m   2422\u001b[0m         \u001b[38;5;124m'\u001b[39m\u001b[38;5;124mCannot evaluate expression \u001b[39m\u001b[38;5;132;01m%s\u001b[39;00m\u001b[38;5;124m: \u001b[39m\u001b[38;5;132;01m%s\u001b[39;00m\u001b[38;5;124m'\u001b[39m \u001b[38;5;241m%\u001b[39m (\u001b[38;5;28mself\u001b[39m, e))\n\u001b[1;32m   2423\u001b[0m \u001b[38;5;28;01mexcept\u001b[39;00m \u001b[38;5;167;01mAttributeError\u001b[39;00m \u001b[38;5;28;01mas\u001b[39;00m e:\n\u001b[1;32m   2424\u001b[0m     \u001b[38;5;66;03m# Could return NaN but this would take some jiggery\u001b[39;00m\n\u001b[1;32m   2425\u001b[0m     \u001b[38;5;66;03m# pokery.  One solution is to find Piecewise with a\u001b[39;00m\n\u001b[1;32m   2426\u001b[0m     \u001b[38;5;66;03m# single clause, such as t >= 0 add another Piecewise\u001b[39;00m\n\u001b[1;32m   2427\u001b[0m     \u001b[38;5;66;03m# clause for t < 0 to return NaN.  Adding Piecewise to\u001b[39;00m\n\u001b[1;32m   2428\u001b[0m     \u001b[38;5;66;03m# lambdify functions does not seem to work.\u001b[39;00m\n\u001b[1;32m   2429\u001b[0m     \u001b[38;5;28;01mif\u001b[39;00m expr\u001b[38;5;241m.\u001b[39mis_Piecewise:\n",
      "\u001b[0;31mRuntimeError\u001b[0m: Cannot evaluate expression 250*exp(-250*t)*Integral(v(tau)*exp(250*tau), (tau, 0, oo)): name 'v' is not defined"
     ]
    }
   ],
   "source": [
    "%matplotlib widget\n",
    "ax = cct[2].v.plot((0, 30e-3))"
   ]
  },
  {
   "cell_type": "code",
   "execution_count": null,
   "id": "2f1b9156-cd85-4b7b-9cca-ee9648fc2dd6",
   "metadata": {},
   "outputs": [],
   "source": []
  }
 ],
 "metadata": {
  "kernelspec": {
   "display_name": "Python 3 (ipykernel)",
   "language": "python",
   "name": "python3"
  },
  "language_info": {
   "codemirror_mode": {
    "name": "ipython",
    "version": 3
   },
   "file_extension": ".py",
   "mimetype": "text/x-python",
   "name": "python",
   "nbconvert_exporter": "python",
   "pygments_lexer": "ipython3",
   "version": "3.8.10"
  }
 },
 "nbformat": 4,
 "nbformat_minor": 5
}
