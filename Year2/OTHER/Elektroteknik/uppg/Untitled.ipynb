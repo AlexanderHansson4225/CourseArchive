{
 "cells": [
  {
   "cell_type": "code",
   "execution_count": 1,
   "id": "1d67423a-ce69-4c43-8f53-7a57f3bf598e",
   "metadata": {},
   "outputs": [],
   "source": [
    "from lcapy import *"
   ]
  },
  {
   "cell_type": "code",
   "execution_count": 40,
   "id": "11b16077-af59-4dbc-b718-1145b0103438",
   "metadata": {},
   "outputs": [
    {
     "ename": "RuntimeError",
     "evalue": "The horizontal schematic graph has a loop.  For example, a node needs to be both left of and right of another node.  Probably a component is attached to the wrong nodes.\n",
     "output_type": "error",
     "traceback": [
      "\u001b[0;31m---------------------------------------------------------------------------\u001b[0m",
      "\u001b[0;31mRuntimeError\u001b[0m                              Traceback (most recent call last)",
      "File \u001b[0;32m~/.local/lib/python3.8/site-packages/lcapy/schemgraph.py:711\u001b[0m, in \u001b[0;36mGraph.path_to_closest_known\u001b[0;34m(self, from_gnode, forward)\u001b[0m\n\u001b[1;32m    710\u001b[0m \u001b[38;5;28;01mtry\u001b[39;00m:\n\u001b[0;32m--> 711\u001b[0m     \u001b[43mtraverse\u001b[49m\u001b[43m(\u001b[49m\u001b[43mfrom_gnode\u001b[49m\u001b[43m)\u001b[49m\n\u001b[1;32m    712\u001b[0m \u001b[38;5;28;01mexcept\u001b[39;00m \u001b[38;5;167;01mRuntimeError\u001b[39;00m:\n\u001b[1;32m    713\u001b[0m     \u001b[38;5;66;03m# W a b; right\u001b[39;00m\n\u001b[1;32m    714\u001b[0m     \u001b[38;5;66;03m# W c d; right\u001b[39;00m\n\u001b[1;32m    715\u001b[0m     \u001b[38;5;66;03m# W a c; down\u001b[39;00m\n\u001b[1;32m    716\u001b[0m     \u001b[38;5;66;03m# W b d; up\u001b[39;00m\n",
      "File \u001b[0;32m~/.local/lib/python3.8/site-packages/lcapy/schemgraph.py:702\u001b[0m, in \u001b[0;36mGraph.path_to_closest_known.<locals>.traverse\u001b[0;34m(gnode, depth)\u001b[0m\n\u001b[1;32m    701\u001b[0m \u001b[38;5;66;03m# TODO, memoize\u001b[39;00m\n\u001b[0;32m--> 702\u001b[0m dist \u001b[38;5;241m=\u001b[39m \u001b[43mtraverse\u001b[49m\u001b[43m(\u001b[49m\u001b[43mnext_gnode\u001b[49m\u001b[43m,\u001b[49m\u001b[43m \u001b[49m\u001b[43mdepth\u001b[49m\u001b[43m \u001b[49m\u001b[38;5;241;43m+\u001b[39;49m\u001b[43m \u001b[49m\u001b[38;5;241;43m1\u001b[39;49m\u001b[43m)\u001b[49m \u001b[38;5;241m-\u001b[39m edge\u001b[38;5;241m.\u001b[39msize\n\u001b[1;32m    703\u001b[0m \u001b[38;5;28;01mif\u001b[39;00m dist \u001b[38;5;241m<\u001b[39m min_dist:\n",
      "File \u001b[0;32m~/.local/lib/python3.8/site-packages/lcapy/schemgraph.py:702\u001b[0m, in \u001b[0;36mGraph.path_to_closest_known.<locals>.traverse\u001b[0;34m(gnode, depth)\u001b[0m\n\u001b[1;32m    701\u001b[0m \u001b[38;5;66;03m# TODO, memoize\u001b[39;00m\n\u001b[0;32m--> 702\u001b[0m dist \u001b[38;5;241m=\u001b[39m \u001b[43mtraverse\u001b[49m\u001b[43m(\u001b[49m\u001b[43mnext_gnode\u001b[49m\u001b[43m,\u001b[49m\u001b[43m \u001b[49m\u001b[43mdepth\u001b[49m\u001b[43m \u001b[49m\u001b[38;5;241;43m+\u001b[39;49m\u001b[43m \u001b[49m\u001b[38;5;241;43m1\u001b[39;49m\u001b[43m)\u001b[49m \u001b[38;5;241m-\u001b[39m edge\u001b[38;5;241m.\u001b[39msize\n\u001b[1;32m    703\u001b[0m \u001b[38;5;28;01mif\u001b[39;00m dist \u001b[38;5;241m<\u001b[39m min_dist:\n",
      "    \u001b[0;31m[... skipping similar frames: Graph.path_to_closest_known.<locals>.traverse at line 702 (998 times)]\u001b[0m\n",
      "File \u001b[0;32m~/.local/lib/python3.8/site-packages/lcapy/schemgraph.py:702\u001b[0m, in \u001b[0;36mGraph.path_to_closest_known.<locals>.traverse\u001b[0;34m(gnode, depth)\u001b[0m\n\u001b[1;32m    701\u001b[0m \u001b[38;5;66;03m# TODO, memoize\u001b[39;00m\n\u001b[0;32m--> 702\u001b[0m dist \u001b[38;5;241m=\u001b[39m \u001b[43mtraverse\u001b[49m\u001b[43m(\u001b[49m\u001b[43mnext_gnode\u001b[49m\u001b[43m,\u001b[49m\u001b[43m \u001b[49m\u001b[43mdepth\u001b[49m\u001b[43m \u001b[49m\u001b[38;5;241;43m+\u001b[39;49m\u001b[43m \u001b[49m\u001b[38;5;241;43m1\u001b[39;49m\u001b[43m)\u001b[49m \u001b[38;5;241m-\u001b[39m edge\u001b[38;5;241m.\u001b[39msize\n\u001b[1;32m    703\u001b[0m \u001b[38;5;28;01mif\u001b[39;00m dist \u001b[38;5;241m<\u001b[39m min_dist:\n",
      "File \u001b[0;32m~/.local/lib/python3.8/site-packages/lcapy/schemgraph.py:686\u001b[0m, in \u001b[0;36mGraph.path_to_closest_known.<locals>.traverse\u001b[0;34m(gnode, depth)\u001b[0m\n\u001b[1;32m    685\u001b[0m \u001b[38;5;28;01mif\u001b[39;00m depth \u001b[38;5;241m>\u001b[39m \u001b[38;5;241m1000\u001b[39m:\n\u001b[0;32m--> 686\u001b[0m     \u001b[38;5;28;01mraise\u001b[39;00m \u001b[38;5;167;01mRuntimeError\u001b[39;00m(\u001b[38;5;124m'\u001b[39m\u001b[38;5;124mRecursion depth exceeded\u001b[39m\u001b[38;5;124m'\u001b[39m)\n\u001b[1;32m    688\u001b[0m \u001b[38;5;28;01mif\u001b[39;00m gnode\u001b[38;5;241m.\u001b[39mname \u001b[38;5;129;01min\u001b[39;00m (\u001b[38;5;124m'\u001b[39m\u001b[38;5;124mstart\u001b[39m\u001b[38;5;124m'\u001b[39m, \u001b[38;5;124m'\u001b[39m\u001b[38;5;124mend\u001b[39m\u001b[38;5;124m'\u001b[39m):\n\u001b[1;32m    689\u001b[0m     \u001b[38;5;66;03m# Choose as last resort\u001b[39;00m\n",
      "\u001b[0;31mRuntimeError\u001b[0m: Recursion depth exceeded",
      "\nDuring handling of the above exception, another exception occurred:\n",
      "\u001b[0;31mRuntimeError\u001b[0m                              Traceback (most recent call last)",
      "Cell \u001b[0;32mIn[40], line 8\u001b[0m\n\u001b[1;32m      1\u001b[0m cct \u001b[38;5;241m=\u001b[39m Circuit(\u001b[38;5;124m\"\"\"\u001b[39m\n\u001b[1;32m      2\u001b[0m \u001b[38;5;124m    V1 1 0 \u001b[39m\u001b[38;5;124m{\u001b[39m\u001b[38;5;124mv(t)}; down\u001b[39m\n\u001b[1;32m      3\u001b[0m \u001b[38;5;124m    R1 1 2 R; \u001b[39m\n\u001b[0;32m   (...)\u001b[0m\n\u001b[1;32m      6\u001b[0m \u001b[38;5;124m    I1 22 2 2; down\u001b[39m\n\u001b[1;32m      7\u001b[0m \u001b[38;5;124m\"\"\"\u001b[39m)\n\u001b[0;32m----> 8\u001b[0m \u001b[43mcct\u001b[49m\u001b[38;5;241;43m.\u001b[39;49m\u001b[43mdraw\u001b[49m\u001b[43m(\u001b[49m\u001b[43moptions\u001b[49m\u001b[38;5;241;43m=\u001b[39;49m\u001b[38;5;124;43m'\u001b[39;49m\u001b[38;5;124;43meuropean resistors\u001b[39;49m\u001b[38;5;124;43m'\u001b[39;49m\u001b[43m)\u001b[49m\n",
      "File \u001b[0;32m~/.local/lib/python3.8/site-packages/lcapy/netlistmixin.py:1988\u001b[0m, in \u001b[0;36mNetlistMixin.draw\u001b[0;34m(self, filename, **kwargs)\u001b[0m\n\u001b[1;32m   1985\u001b[0m \u001b[38;5;28;01mif\u001b[39;00m kwargs\u001b[38;5;241m.\u001b[39mpop(\u001b[38;5;124m'\u001b[39m\u001b[38;5;124ms_model\u001b[39m\u001b[38;5;124m'\u001b[39m, \u001b[38;5;28;01mFalse\u001b[39;00m):\n\u001b[1;32m   1986\u001b[0m     cct \u001b[38;5;241m=\u001b[39m cct\u001b[38;5;241m.\u001b[39ms_model()\n\u001b[0;32m-> 1988\u001b[0m \u001b[38;5;28;01mreturn\u001b[39;00m \u001b[43mcct\u001b[49m\u001b[38;5;241;43m.\u001b[39;49m\u001b[43msch\u001b[49m\u001b[38;5;241;43m.\u001b[39;49m\u001b[43mdraw\u001b[49m\u001b[43m(\u001b[49m\u001b[43mfilename\u001b[49m\u001b[38;5;241;43m=\u001b[39;49m\u001b[43mfilename\u001b[49m\u001b[43m,\u001b[49m\u001b[43m \u001b[49m\u001b[38;5;241;43m*\u001b[39;49m\u001b[38;5;241;43m*\u001b[39;49m\u001b[43mkwargs\u001b[49m\u001b[43m)\u001b[49m\n",
      "File \u001b[0;32m~/.local/lib/python3.8/site-packages/lcapy/schematic.py:736\u001b[0m, in \u001b[0;36mSchematic.draw\u001b[0;34m(self, filename, **kwargs)\u001b[0m\n\u001b[1;32m    733\u001b[0m \u001b[38;5;28;01mfrom\u001b[39;00m \u001b[38;5;21;01mIPython\u001b[39;00m\u001b[38;5;21;01m.\u001b[39;00m\u001b[38;5;21;01mdisplay\u001b[39;00m \u001b[38;5;28;01mimport\u001b[39;00m Image, display_png\n\u001b[1;32m    735\u001b[0m png_filename \u001b[38;5;241m=\u001b[39m tmpfilename(\u001b[38;5;124m'\u001b[39m\u001b[38;5;124m.png\u001b[39m\u001b[38;5;124m'\u001b[39m)\n\u001b[0;32m--> 736\u001b[0m \u001b[38;5;28;43mself\u001b[39;49m\u001b[38;5;241;43m.\u001b[39;49m\u001b[43mtikz_draw\u001b[49m\u001b[43m(\u001b[49m\u001b[43mpng_filename\u001b[49m\u001b[43m,\u001b[49m\u001b[43m \u001b[49m\u001b[38;5;241;43m*\u001b[39;49m\u001b[38;5;241;43m*\u001b[39;49m\u001b[43mkwargs\u001b[49m\u001b[43m)\u001b[49m\n\u001b[1;32m    738\u001b[0m \u001b[38;5;66;03m# Create and display PNG image object.\u001b[39;00m\n\u001b[1;32m    739\u001b[0m \u001b[38;5;66;03m# There are two problems:\u001b[39;00m\n\u001b[1;32m    740\u001b[0m \u001b[38;5;66;03m# 1. The image metadata (width, height) is ignored\u001b[39;00m\n\u001b[1;32m    741\u001b[0m \u001b[38;5;66;03m#    when the ipynb file is loaded.\u001b[39;00m\n\u001b[1;32m    742\u001b[0m \u001b[38;5;66;03m# 2. The image metadata (width, height) is not stored\u001b[39;00m\n\u001b[1;32m    743\u001b[0m \u001b[38;5;66;03m#    when the ipynb file is written non-interactively.\u001b[39;00m\n\u001b[1;32m    744\u001b[0m width, height \u001b[38;5;241m=\u001b[39m png_image_size(png_filename)\n",
      "File \u001b[0;32m~/.local/lib/python3.8/site-packages/lcapy/schematic.py:547\u001b[0m, in \u001b[0;36mSchematic.tikz_draw\u001b[0;34m(self, filename, **kwargs)\u001b[0m\n\u001b[1;32m    543\u001b[0m nosave \u001b[38;5;241m=\u001b[39m kwargs\u001b[38;5;241m.\u001b[39mpop(\u001b[38;5;124m'\u001b[39m\u001b[38;5;124mnosave\u001b[39m\u001b[38;5;124m'\u001b[39m, \u001b[38;5;28;01mFalse\u001b[39;00m)\n\u001b[1;32m    545\u001b[0m latexrunner \u001b[38;5;241m=\u001b[39m LatexRunner((\u001b[38;5;28mself\u001b[39m\u001b[38;5;241m.\u001b[39mdebug \u001b[38;5;241m&\u001b[39m \u001b[38;5;241m2\u001b[39m) \u001b[38;5;241m!=\u001b[39m \u001b[38;5;241m0\u001b[39m)\n\u001b[0;32m--> 547\u001b[0m content \u001b[38;5;241m=\u001b[39m \u001b[38;5;28;43mself\u001b[39;49m\u001b[38;5;241;43m.\u001b[39;49m\u001b[43m_tikz_draw\u001b[49m\u001b[43m(\u001b[49m\u001b[43mstyle_args\u001b[49m\u001b[38;5;241;43m=\u001b[39;49m\u001b[43mstyle_args\u001b[49m\u001b[43m,\u001b[49m\u001b[43m \u001b[49m\u001b[38;5;241;43m*\u001b[39;49m\u001b[38;5;241;43m*\u001b[39;49m\u001b[43mkwargs\u001b[49m\u001b[43m)\u001b[49m\n\u001b[1;32m    549\u001b[0m \u001b[38;5;28;01mif\u001b[39;00m nosave:\n\u001b[1;32m    550\u001b[0m     \u001b[38;5;28;01mreturn\u001b[39;00m\n",
      "File \u001b[0;32m~/.local/lib/python3.8/site-packages/lcapy/schematic.py:466\u001b[0m, in \u001b[0;36mSchematic._tikz_draw\u001b[0;34m(self, style_args, **kwargs)\u001b[0m\n\u001b[1;32m    463\u001b[0m help_lines \u001b[38;5;241m=\u001b[39m \u001b[38;5;28mfloat\u001b[39m(kwargs\u001b[38;5;241m.\u001b[39mpop(\u001b[38;5;124m'\u001b[39m\u001b[38;5;124mhelp_lines\u001b[39m\u001b[38;5;124m'\u001b[39m, \u001b[38;5;241m0\u001b[39m))\n\u001b[1;32m    464\u001b[0m help_lines_color \u001b[38;5;241m=\u001b[39m kwargs\u001b[38;5;241m.\u001b[39mpop(\u001b[38;5;124m'\u001b[39m\u001b[38;5;124mhelp_lines_color\u001b[39m\u001b[38;5;124m'\u001b[39m, \u001b[38;5;124m'\u001b[39m\u001b[38;5;124mblue\u001b[39m\u001b[38;5;124m'\u001b[39m)\n\u001b[0;32m--> 466\u001b[0m \u001b[38;5;28;43mself\u001b[39;49m\u001b[38;5;241;43m.\u001b[39;49m\u001b[43m_positions_calculate\u001b[49m\u001b[43m(\u001b[49m\u001b[43mmethod\u001b[49m\u001b[43m,\u001b[49m\u001b[43m \u001b[49m\u001b[38;5;28;43mself\u001b[39;49m\u001b[38;5;241;43m.\u001b[39;49m\u001b[43mdebug\u001b[49m\u001b[43m,\u001b[49m\u001b[43m \u001b[49m\u001b[38;5;241;43m*\u001b[39;49m\u001b[38;5;241;43m*\u001b[39;49m\u001b[43mkwargs\u001b[49m\u001b[43m)\u001b[49m\n\u001b[1;32m    468\u001b[0m \u001b[38;5;66;03m# Note, scale does not scale the font size.\u001b[39;00m\n\u001b[1;32m    469\u001b[0m opts \u001b[38;5;241m=\u001b[39m [\u001b[38;5;124m'\u001b[39m\u001b[38;5;124mscale=\u001b[39m\u001b[38;5;132;01m%.2f\u001b[39;00m\u001b[38;5;124m'\u001b[39m \u001b[38;5;241m%\u001b[39m \u001b[38;5;28mself\u001b[39m\u001b[38;5;241m.\u001b[39mscale,\n\u001b[1;32m    470\u001b[0m         \u001b[38;5;124m'\u001b[39m\u001b[38;5;124mtransform shape\u001b[39m\u001b[38;5;124m'\u001b[39m,\n\u001b[1;32m    471\u001b[0m         \u001b[38;5;124m'\u001b[39m\u001b[38;5;124m/tikz/circuitikz/bipoles/length=\u001b[39m\u001b[38;5;132;01m%.2f\u001b[39;00m\u001b[38;5;124mcm\u001b[39m\u001b[38;5;124m'\u001b[39m \u001b[38;5;241m%\u001b[39m \u001b[38;5;28mself\u001b[39m\u001b[38;5;241m.\u001b[39mcpt_size]\n",
      "File \u001b[0;32m~/.local/lib/python3.8/site-packages/lcapy/schematic.py:389\u001b[0m, in \u001b[0;36mSchematic._positions_calculate\u001b[0;34m(self, method, debug, **kwargs)\u001b[0m\n\u001b[1;32m    387\u001b[0m \u001b[38;5;28;01mif\u001b[39;00m \u001b[38;5;28mself\u001b[39m\u001b[38;5;241m.\u001b[39mdebug \u001b[38;5;241m&\u001b[39m \u001b[38;5;241m4\u001b[39m:\n\u001b[1;32m    388\u001b[0m     \u001b[38;5;28mprint\u001b[39m(\u001b[38;5;124m'\u001b[39m\u001b[38;5;124mSolving graphs\u001b[39m\u001b[38;5;124m'\u001b[39m)\n\u001b[0;32m--> 389\u001b[0m \u001b[38;5;28mself\u001b[39m\u001b[38;5;241m.\u001b[39mwidth, \u001b[38;5;28mself\u001b[39m\u001b[38;5;241m.\u001b[39mheight \u001b[38;5;241m=\u001b[39m \u001b[43mplacer\u001b[49m\u001b[38;5;241;43m.\u001b[39;49m\u001b[43msolve\u001b[49m\u001b[43m(\u001b[49m\u001b[38;5;28;43mself\u001b[39;49m\u001b[38;5;241;43m.\u001b[39;49m\u001b[43mnode_spacing\u001b[49m\u001b[43m)\u001b[49m\n\u001b[1;32m    391\u001b[0m \u001b[38;5;28;01mreturn\u001b[39;00m \u001b[38;5;28;01mTrue\u001b[39;00m\n",
      "File \u001b[0;32m~/.local/lib/python3.8/site-packages/lcapy/schemplacerbase.py:102\u001b[0m, in \u001b[0;36mSchemPlacerBase.solve\u001b[0;34m(self, node_spacing)\u001b[0m\n\u001b[1;32m     98\u001b[0m \u001b[38;5;28;01mdef\u001b[39;00m \u001b[38;5;21msolve\u001b[39m(\u001b[38;5;28mself\u001b[39m, node_spacing):\n\u001b[1;32m    100\u001b[0m     \u001b[38;5;28mself\u001b[39m\u001b[38;5;241m.\u001b[39m_make_graphs()\n\u001b[0;32m--> 102\u001b[0m     xpos, width \u001b[38;5;241m=\u001b[39m \u001b[38;5;28;43mself\u001b[39;49m\u001b[38;5;241;43m.\u001b[39;49m\u001b[43mxgraph\u001b[49m\u001b[38;5;241;43m.\u001b[39;49m\u001b[43msolve\u001b[49m\u001b[43m(\u001b[49m\u001b[43m)\u001b[49m\n\u001b[1;32m    103\u001b[0m     ypos, height \u001b[38;5;241m=\u001b[39m \u001b[38;5;28mself\u001b[39m\u001b[38;5;241m.\u001b[39mygraph\u001b[38;5;241m.\u001b[39msolve()\n\u001b[1;32m    105\u001b[0m     scale \u001b[38;5;241m=\u001b[39m node_spacing\n",
      "File \u001b[0;32m~/.local/lib/python3.8/site-packages/lcapy/schemgraph.py:593\u001b[0m, in \u001b[0;36mGraph.solve\u001b[0;34m(self, stage)\u001b[0m\n\u001b[1;32m    590\u001b[0m     \u001b[38;5;28;01mreturn\u001b[39;00m\n\u001b[1;32m    592\u001b[0m \u001b[38;5;66;03m# Assign remaining gnodes.\u001b[39;00m\n\u001b[0;32m--> 593\u001b[0m \u001b[38;5;28;43mself\u001b[39;49m\u001b[38;5;241;43m.\u001b[39;49m\u001b[43massign_stretchy\u001b[49m\u001b[43m(\u001b[49m\u001b[43munknown\u001b[49m\u001b[43m)\u001b[49m\n\u001b[1;32m    595\u001b[0m \u001b[38;5;28;01mif\u001b[39;00m unknown \u001b[38;5;241m!=\u001b[39m []:\n\u001b[1;32m    596\u001b[0m     \u001b[38;5;28;01mraise\u001b[39;00m \u001b[38;5;167;01mValueError\u001b[39;00m(\u001b[38;5;124m'\u001b[39m\u001b[38;5;124mCannot assign nodes \u001b[39m\u001b[38;5;132;01m%s\u001b[39;00m\u001b[38;5;124m for \u001b[39m\u001b[38;5;132;01m%s\u001b[39;00m\u001b[38;5;124m graph.\u001b[39m\u001b[38;5;130;01m\\n\u001b[39;00m\u001b[38;5;132;01m%s\u001b[39;00m\u001b[38;5;124m'\u001b[39m \u001b[38;5;241m%\u001b[39m\n\u001b[1;32m    597\u001b[0m                      (unknown, \u001b[38;5;28mself\u001b[39m\u001b[38;5;241m.\u001b[39mname, \u001b[38;5;28mself\u001b[39m))\n",
      "File \u001b[0;32m~/.local/lib/python3.8/site-packages/lcapy/schemgraph.py:413\u001b[0m, in \u001b[0;36mGraph.assign_stretchy\u001b[0;34m(self, unknown)\u001b[0m\n\u001b[1;32m    410\u001b[0m     unknown\u001b[38;5;241m.\u001b[39mremove(n)\n\u001b[1;32m    411\u001b[0m     \u001b[38;5;28;01mbreak\u001b[39;00m\n\u001b[0;32m--> 413\u001b[0m changes \u001b[38;5;241m=\u001b[39m \u001b[38;5;28;43mself\u001b[39;49m\u001b[38;5;241;43m.\u001b[39;49m\u001b[43massign_stretchy1\u001b[49m\u001b[43m(\u001b[49m\u001b[43mgnode\u001b[49m\u001b[43m,\u001b[49m\u001b[43m \u001b[49m\u001b[43munknown\u001b[49m\u001b[43m)\u001b[49m\n\u001b[1;32m    414\u001b[0m \u001b[38;5;28;01mif\u001b[39;00m changes:\n\u001b[1;32m    415\u001b[0m     \u001b[38;5;28mself\u001b[39m\u001b[38;5;241m.\u001b[39massign_fixed(unknown)\n",
      "File \u001b[0;32m~/.local/lib/python3.8/site-packages/lcapy/schemgraph.py:332\u001b[0m, in \u001b[0;36mGraph.assign_stretchy1\u001b[0;34m(self, gnode, unknown)\u001b[0m\n\u001b[1;32m    317\u001b[0m \u001b[38;5;28;01mdef\u001b[39;00m \u001b[38;5;21massign_stretchy1\u001b[39m(\u001b[38;5;28mself\u001b[39m, gnode, unknown):\n\u001b[1;32m    318\u001b[0m \n\u001b[1;32m    319\u001b[0m     \u001b[38;5;66;03m# For each node, find the longest path between nodes with\u001b[39;00m\n\u001b[0;32m   (...)\u001b[0m\n\u001b[1;32m    329\u001b[0m     \u001b[38;5;66;03m# TODO, check for multiple paths with a conflict, for example,\u001b[39;00m\n\u001b[1;32m    330\u001b[0m     \u001b[38;5;66;03m# a stretchy path of a longer distance than a fixed path.\u001b[39;00m\n\u001b[0;32m--> 332\u001b[0m     to_path \u001b[38;5;241m=\u001b[39m \u001b[38;5;28;43mself\u001b[39;49m\u001b[38;5;241;43m.\u001b[39;49m\u001b[43mpath_to_closest_known\u001b[49m\u001b[43m(\u001b[49m\u001b[43mgnode\u001b[49m\u001b[43m,\u001b[49m\u001b[43m \u001b[49m\u001b[43mforward\u001b[49m\u001b[38;5;241;43m=\u001b[39;49m\u001b[38;5;28;43;01mTrue\u001b[39;49;00m\u001b[43m)\u001b[49m\n\u001b[1;32m    333\u001b[0m     from_path \u001b[38;5;241m=\u001b[39m \u001b[38;5;28mself\u001b[39m\u001b[38;5;241m.\u001b[39mpath_to_closest_known(gnode, forward\u001b[38;5;241m=\u001b[39m\u001b[38;5;28;01mFalse\u001b[39;00m)\n\u001b[1;32m    335\u001b[0m     to_gnode \u001b[38;5;241m=\u001b[39m to_path\u001b[38;5;241m.\u001b[39mto_gnode\n",
      "File \u001b[0;32m~/.local/lib/python3.8/site-packages/lcapy/schemgraph.py:723\u001b[0m, in \u001b[0;36mGraph.path_to_closest_known\u001b[0;34m(self, from_gnode, forward)\u001b[0m\n\u001b[1;32m    721\u001b[0m     \u001b[38;5;28;01mif\u001b[39;00m \u001b[38;5;28mself\u001b[39m\u001b[38;5;241m.\u001b[39mdebug:\n\u001b[1;32m    722\u001b[0m         msg \u001b[38;5;241m+\u001b[39m\u001b[38;5;241m=\u001b[39m \u001b[38;5;28mstr\u001b[39m(\u001b[38;5;28mself\u001b[39m)\n\u001b[0;32m--> 723\u001b[0m     \u001b[38;5;28;01mraise\u001b[39;00m \u001b[38;5;167;01mRuntimeError\u001b[39;00m(msg)\n\u001b[1;32m    725\u001b[0m \u001b[38;5;28;01mreturn\u001b[39;00m \u001b[38;5;28mself\u001b[39m\u001b[38;5;241m.\u001b[39mmakepath(from_gnode)\n",
      "\u001b[0;31mRuntimeError\u001b[0m: The horizontal schematic graph has a loop.  For example, a node needs to be both left of and right of another node.  Probably a component is attached to the wrong nodes.\n"
     ]
    }
   ],
   "source": [
    "cct = Circuit(\"\"\"\n",
    "    V1 1 0 {v(t)}; down\n",
    "    R1 1 2 R; \n",
    "    R2 2 21 R;\n",
    "    R3 21 22 R;\n",
    "    I1 22 2 2; down\n",
    "\"\"\")\n",
    "cct.draw(options='european resistors')"
   ]
  },
  {
   "cell_type": "code",
   "execution_count": 41,
   "id": "2cf08a56-65d8-40c0-bc9f-1ca28cf5b6cf",
   "metadata": {},
   "outputs": [
    {
     "data": {
      "text/latex": [
       "$$v(t)$$"
      ],
      "text/plain": [
       "v(t)"
      ]
     },
     "execution_count": 41,
     "metadata": {},
     "output_type": "execute_result"
    }
   ],
   "source": [
    "cct[2].V(t).simplify()\n"
   ]
  },
  {
   "cell_type": "code",
   "execution_count": 42,
   "id": "a392f4e3-c986-46b2-8fee-46db34e070bd",
   "metadata": {},
   "outputs": [
    {
     "ename": "RuntimeError",
     "evalue": "Cannot evaluate expression v(t): name 'v' is not defined",
     "output_type": "error",
     "traceback": [
      "\u001b[0;31m---------------------------------------------------------------------------\u001b[0m",
      "\u001b[0;31mNameError\u001b[0m                                 Traceback (most recent call last)",
      "File \u001b[0;32m~/.local/lib/python3.8/site-packages/lcapy/expr.py:2419\u001b[0m, in \u001b[0;36mExpr.evaluate.<locals>.evaluate_expr\u001b[0;34m(expr, var, arg)\u001b[0m\n\u001b[1;32m   2417\u001b[0m \u001b[38;5;28;01mtry\u001b[39;00m:\n\u001b[1;32m   2418\u001b[0m     \u001b[38;5;66;03m# Try to flush out weirdness using first argument\u001b[39;00m\n\u001b[0;32m-> 2419\u001b[0m     response \u001b[38;5;241m=\u001b[39m \u001b[43mfunc\u001b[49m\u001b[43m(\u001b[49m\u001b[43marg0\u001b[49m\u001b[43m)\u001b[49m\n\u001b[1;32m   2420\u001b[0m \u001b[38;5;28;01mexcept\u001b[39;00m \u001b[38;5;167;01mNameError\u001b[39;00m \u001b[38;5;28;01mas\u001b[39;00m e:\n",
      "File \u001b[0;32m~/.local/lib/python3.8/site-packages/lcapy/expr.py:2405\u001b[0m, in \u001b[0;36mExpr.evaluate.<locals>.evaluate_expr.<locals>.func\u001b[0;34m(arg)\u001b[0m\n\u001b[1;32m   2404\u001b[0m \u001b[38;5;28;01mtry\u001b[39;00m:\n\u001b[0;32m-> 2405\u001b[0m     result \u001b[38;5;241m=\u001b[39m \u001b[43mfunc1\u001b[49m\u001b[43m(\u001b[49m\u001b[43marg\u001b[49m\u001b[43m)\u001b[49m\n\u001b[1;32m   2406\u001b[0m \u001b[38;5;28;01mexcept\u001b[39;00m \u001b[38;5;167;01mZeroDivisionError\u001b[39;00m:\n",
      "File \u001b[0;32m<lambdifygenerated-3>:2\u001b[0m, in \u001b[0;36m_lambdifygenerated\u001b[0;34m(t)\u001b[0m\n\u001b[1;32m      1\u001b[0m \u001b[38;5;28;01mdef\u001b[39;00m \u001b[38;5;21m_lambdifygenerated\u001b[39m(t):\n\u001b[0;32m----> 2\u001b[0m     \u001b[38;5;28;01mreturn\u001b[39;00m \u001b[43mv\u001b[49m(t)\n",
      "\u001b[0;31mNameError\u001b[0m: name 'v' is not defined",
      "\nDuring handling of the above exception, another exception occurred:\n",
      "\u001b[0;31mRuntimeError\u001b[0m                              Traceback (most recent call last)",
      "Cell \u001b[0;32mIn[42], line 2\u001b[0m\n\u001b[1;32m      1\u001b[0m get_ipython()\u001b[38;5;241m.\u001b[39mrun_line_magic(\u001b[38;5;124m'\u001b[39m\u001b[38;5;124mmatplotlib\u001b[39m\u001b[38;5;124m'\u001b[39m, \u001b[38;5;124m'\u001b[39m\u001b[38;5;124mwidget\u001b[39m\u001b[38;5;124m'\u001b[39m)\n\u001b[0;32m----> 2\u001b[0m ax \u001b[38;5;241m=\u001b[39m \u001b[43mcct\u001b[49m\u001b[43m[\u001b[49m\u001b[38;5;241;43m2\u001b[39;49m\u001b[43m]\u001b[49m\u001b[38;5;241;43m.\u001b[39;49m\u001b[43mv\u001b[49m\u001b[38;5;241;43m.\u001b[39;49m\u001b[43mplot\u001b[49m\u001b[43m(\u001b[49m\u001b[43m(\u001b[49m\u001b[38;5;241;43m0\u001b[39;49m\u001b[43m,\u001b[49m\u001b[43m \u001b[49m\u001b[38;5;241;43m30e-3\u001b[39;49m\u001b[43m)\u001b[49m\u001b[43m)\u001b[49m\n",
      "File \u001b[0;32m~/.local/lib/python3.8/site-packages/lcapy/texpr.py:211\u001b[0m, in \u001b[0;36mTimeDomainExpression.plot\u001b[0;34m(self, t, **kwargs)\u001b[0m\n\u001b[1;32m    194\u001b[0m \u001b[38;5;250m\u001b[39m\u001b[38;5;124;03m\"\"\"Plot the time waveform.  If t is not specified, it defaults to the\u001b[39;00m\n\u001b[1;32m    195\u001b[0m \u001b[38;5;124;03mrange(-0.2, 2).  t can be a vector of specified instants, a\u001b[39;00m\n\u001b[1;32m    196\u001b[0m \u001b[38;5;124;03mtuple specifing the range, or a constant specifying the\u001b[39;00m\n\u001b[0;32m   (...)\u001b[0m\n\u001b[1;32m    207\u001b[0m \n\u001b[1;32m    208\u001b[0m \u001b[38;5;124;03mThe plot axes are returned.\"\"\"\u001b[39;00m\n\u001b[1;32m    210\u001b[0m \u001b[38;5;28;01mfrom\u001b[39;00m \u001b[38;5;21;01m.\u001b[39;00m\u001b[38;5;21;01mplot\u001b[39;00m \u001b[38;5;28;01mimport\u001b[39;00m plot_time\n\u001b[0;32m--> 211\u001b[0m \u001b[38;5;28;01mreturn\u001b[39;00m \u001b[43mplot_time\u001b[49m\u001b[43m(\u001b[49m\u001b[38;5;28;43mself\u001b[39;49m\u001b[43m,\u001b[49m\u001b[43m \u001b[49m\u001b[43mt\u001b[49m\u001b[43m,\u001b[49m\u001b[43m \u001b[49m\u001b[38;5;241;43m*\u001b[39;49m\u001b[38;5;241;43m*\u001b[39;49m\u001b[43mkwargs\u001b[49m\u001b[43m)\u001b[49m\n",
      "File \u001b[0;32m~/.local/lib/python3.8/site-packages/lcapy/plot.py:588\u001b[0m, in \u001b[0;36mplot_time\u001b[0;34m(obj, t, plot_type, **kwargs)\u001b[0m\n\u001b[1;32m    585\u001b[0m     rest, deltas \u001b[38;5;241m=\u001b[39m separate_dirac_delta(obj\u001b[38;5;241m.\u001b[39mexpr)\n\u001b[1;32m    586\u001b[0m     obj \u001b[38;5;241m=\u001b[39m \u001b[38;5;28mcls\u001b[39m(rest, \u001b[38;5;241m*\u001b[39m\u001b[38;5;241m*\u001b[39mobj\u001b[38;5;241m.\u001b[39massumptions)\n\u001b[0;32m--> 588\u001b[0m v \u001b[38;5;241m=\u001b[39m \u001b[43mobj\u001b[49m\u001b[38;5;241;43m.\u001b[39;49m\u001b[43mevaluate\u001b[49m\u001b[43m(\u001b[49m\u001b[43mt\u001b[49m\u001b[43m)\u001b[49m\n\u001b[1;32m    590\u001b[0m \u001b[38;5;28;01mif\u001b[39;00m plot_type \u001b[38;5;241m==\u001b[39m \u001b[38;5;28;01mNone\u001b[39;00m:\n\u001b[1;32m    591\u001b[0m     plot_type \u001b[38;5;241m=\u001b[39m \u001b[38;5;124m'\u001b[39m\u001b[38;5;124mreal\u001b[39m\u001b[38;5;124m'\u001b[39m\n",
      "File \u001b[0;32m~/.local/lib/python3.8/site-packages/lcapy/expr.py:2499\u001b[0m, in \u001b[0;36mExpr.evaluate\u001b[0;34m(self, arg)\u001b[0m\n\u001b[1;32m   2496\u001b[0m \u001b[38;5;28;01mexcept\u001b[39;00m:\n\u001b[1;32m   2497\u001b[0m     \u001b[38;5;28;01mpass\u001b[39;00m\n\u001b[0;32m-> 2499\u001b[0m \u001b[38;5;28;01mreturn\u001b[39;00m \u001b[43mevaluate_expr\u001b[49m\u001b[43m(\u001b[49m\u001b[43mexpr\u001b[49m\u001b[43m,\u001b[49m\u001b[43m \u001b[49m\u001b[43mvar\u001b[49m\u001b[43m,\u001b[49m\u001b[43m \u001b[49m\u001b[43marg\u001b[49m\u001b[43m)\u001b[49m\n",
      "File \u001b[0;32m~/.local/lib/python3.8/site-packages/lcapy/expr.py:2421\u001b[0m, in \u001b[0;36mExpr.evaluate.<locals>.evaluate_expr\u001b[0;34m(expr, var, arg)\u001b[0m\n\u001b[1;32m   2419\u001b[0m     response \u001b[38;5;241m=\u001b[39m func(arg0)\n\u001b[1;32m   2420\u001b[0m \u001b[38;5;28;01mexcept\u001b[39;00m \u001b[38;5;167;01mNameError\u001b[39;00m \u001b[38;5;28;01mas\u001b[39;00m e:\n\u001b[0;32m-> 2421\u001b[0m     \u001b[38;5;28;01mraise\u001b[39;00m \u001b[38;5;167;01mRuntimeError\u001b[39;00m(\n\u001b[1;32m   2422\u001b[0m         \u001b[38;5;124m'\u001b[39m\u001b[38;5;124mCannot evaluate expression \u001b[39m\u001b[38;5;132;01m%s\u001b[39;00m\u001b[38;5;124m: \u001b[39m\u001b[38;5;132;01m%s\u001b[39;00m\u001b[38;5;124m'\u001b[39m \u001b[38;5;241m%\u001b[39m (\u001b[38;5;28mself\u001b[39m, e))\n\u001b[1;32m   2423\u001b[0m \u001b[38;5;28;01mexcept\u001b[39;00m \u001b[38;5;167;01mAttributeError\u001b[39;00m \u001b[38;5;28;01mas\u001b[39;00m e:\n\u001b[1;32m   2424\u001b[0m     \u001b[38;5;66;03m# Could return NaN but this would take some jiggery\u001b[39;00m\n\u001b[1;32m   2425\u001b[0m     \u001b[38;5;66;03m# pokery.  One solution is to find Piecewise with a\u001b[39;00m\n\u001b[1;32m   2426\u001b[0m     \u001b[38;5;66;03m# single clause, such as t >= 0 add another Piecewise\u001b[39;00m\n\u001b[1;32m   2427\u001b[0m     \u001b[38;5;66;03m# clause for t < 0 to return NaN.  Adding Piecewise to\u001b[39;00m\n\u001b[1;32m   2428\u001b[0m     \u001b[38;5;66;03m# lambdify functions does not seem to work.\u001b[39;00m\n\u001b[1;32m   2429\u001b[0m     \u001b[38;5;28;01mif\u001b[39;00m expr\u001b[38;5;241m.\u001b[39mis_Piecewise:\n",
      "\u001b[0;31mRuntimeError\u001b[0m: Cannot evaluate expression v(t): name 'v' is not defined"
     ]
    }
   ],
   "source": [
    "%matplotlib widget\n",
    "ax = cct[2].v.plot((0, 30e-3))"
   ]
  },
  {
   "cell_type": "code",
   "execution_count": null,
   "id": "2f1b9156-cd85-4b7b-9cca-ee9648fc2dd6",
   "metadata": {},
   "outputs": [],
   "source": []
  },
  {
   "cell_type": "code",
   "execution_count": null,
   "id": "7ef76dd4-472a-4d9a-b59f-beff82b64ea9",
   "metadata": {},
   "outputs": [],
   "source": []
  },
  {
   "cell_type": "code",
   "execution_count": null,
   "id": "27f01917-a4a1-458a-8142-d367b076c990",
   "metadata": {},
   "outputs": [],
   "source": []
  },
  {
   "cell_type": "code",
   "execution_count": null,
   "id": "092b9a07-0884-4c7d-b2a2-511d0b041655",
   "metadata": {},
   "outputs": [],
   "source": []
  },
  {
   "cell_type": "code",
   "execution_count": 43,
   "id": "765b97be-3cb0-4913-af8f-569d0c979437",
   "metadata": {},
   "outputs": [
    {
     "ename": "SyntaxError",
     "evalue": "invalid syntax (882709214.py, line 1)",
     "output_type": "error",
     "traceback": [
      "\u001b[0;36m  Cell \u001b[0;32mIn[43], line 1\u001b[0;36m\u001b[0m\n\u001b[0;31m    Skip to left side bar\u001b[0m\n\u001b[0m         ^\u001b[0m\n\u001b[0;31mSyntaxError\u001b[0m\u001b[0;31m:\u001b[0m invalid syntax\n"
     ]
    }
   ],
   "source": [
    "Skip to left side bar\n",
    ">\n",
    "/\n",
    "Name\n",
    "Last Modified\n",
    "\n",
    "from lcapy import *\n",
    "Selection deleted\n",
    "cct = Circuit(\"\"\"\n",
    "    V1 1 0 {1}; down\n",
    "    R1 1 2 R; \n",
    "    R2 2 21 R;\n",
    "    R3 21 22 R;\n",
    "    I1 22 2 2;\n",
    "\"\"\")\n",
    "cct.draw(options='european resistors')\n",
    "\n",
    "Skip to left side bar\n",
    ">\n",
    "/\n",
    "Name\n",
    "Last Modified\n",
    "\n",
    "from lcapy import *\n",
    "Selection deleted\n",
    "cct = Circuit(\"\"\"\n",
    "    V1 1 0 {1}; down\n",
    "    R1 1 2 R; \n",
    "    R2 2 21 R;\n",
    "    R3 21 22 R;\n",
    "    I1 22 2 2;\n",
    "\"\"\")\n",
    "cct.draw(options='european resistors')\n",
    "\n",
    "Skip to left side bar\n",
    ">\n",
    "/\n",
    "Name\n",
    "Last Modified\n",
    "\n",
    "from lcapy import *\n",
    "Selection deleted\n",
    "cct = Circuit(\"\"\"\n",
    "    V1 1 0 {1}; down\n",
    "    R1 1 2 R; \n",
    "    R2 2 21 R;\n",
    "    R3 21 22 R;\n",
    "    I1 22 2 2;\n",
    "\"\"\")\n",
    "cct.draw(options='european resistors')\n",
    "\n"
   ]
  },
  {
   "cell_type": "code",
   "execution_count": null,
   "id": "2dc427b0-d9c1-4df4-996b-f1928ff6f239",
   "metadata": {},
   "outputs": [],
   "source": []
  }
 ],
 "metadata": {
  "kernelspec": {
   "display_name": "Python 3 (ipykernel)",
   "language": "python",
   "name": "python3"
  },
  "language_info": {
   "codemirror_mode": {
    "name": "ipython",
    "version": 3
   },
   "file_extension": ".py",
   "mimetype": "text/x-python",
   "name": "python",
   "nbconvert_exporter": "python",
   "pygments_lexer": "ipython3",
   "version": "3.8.10"
  }
 },
 "nbformat": 4,
 "nbformat_minor": 5
}
